{
 "cells": [
  {
   "cell_type": "code",
   "execution_count": 60,
   "id": "bb744306-4fb9-497e-a388-a6d0de51e957",
   "metadata": {},
   "outputs": [
    {
     "name": "stdout",
     "output_type": "stream",
     "text": [
      "true\n",
      "hello\n"
     ]
    }
   ],
   "source": [
    "class Stack:\n",
    "    def __init__(self):\n",
    "        self.items = []\n",
    "\n",
    "    def isEmpty(self):\n",
    "        return self.items == []\n",
    "\n",
    "    def push(self, item):\n",
    "        self.items.append(item)\n",
    "\n",
    "    def pop(self):\n",
    "        return self.items.pop()\n",
    "\n",
    "    def peek(self):\n",
    "        return self.items[-1]\n",
    "\n",
    "    def size(self):\n",
    "        return len(self.items)\n",
    "s = Stack()\n",
    "s.push('hello')\n",
    "s.push('true')\n",
    "print(s.pop())\n",
    "print(s.pop())"
   ]
  },
  {
   "cell_type": "code",
   "execution_count": 64,
   "id": "d649d047-835e-41f2-8738-719b7053b544",
   "metadata": {},
   "outputs": [
    {
     "name": "stdout",
     "output_type": "stream",
     "text": [
      "['hello', 'true']\n",
      "['world']\n",
      "Оцінка складності:\n",
      "Search (пошук): у середньому і в найгіршому випадках - O(n))\n",
      "Insert (вставка): у середньому - O(1), в найгіршому - O(1)\n",
      "Delete (видалення): у середньому - O(1), в найгіршому - O(1)\n"
     ]
    }
   ],
   "source": [
    "class Stack:\n",
    "    def __init__(self):\n",
    "        self.items = []\n",
    "\n",
    "    def isEmpty(self):\n",
    "        return self.items == []\n",
    "\n",
    "    def push(self, item):\n",
    "        self.items.append(item)\n",
    "\n",
    "    def pop(self):\n",
    "        return self.items.pop()\n",
    "\n",
    "    def peek(self):\n",
    "        return self.items[-1]\n",
    "\n",
    "    def size(self):\n",
    "        return len(self.items)\n",
    "    \n",
    "    def pop_n(self, n):\n",
    "        if n >= len(self.items):\n",
    "            removed_items = self.items[:]\n",
    "            self.items = []\n",
    "        else:\n",
    "            removed_items = self.items[:n+1]\n",
    "            self.items = self.items[n+1:]\n",
    "        return removed_items\n",
    "s = Stack()\n",
    "s.push('hello')\n",
    "s.push('true')\n",
    "s.push('world')\n",
    "print(s.pop_n(1))  \n",
    "print(s.items)  \n",
    "print(\"\"\"Оцінка складності:\n",
    "Search (пошук): у середньому і в найгіршому випадках - O(n))\n",
    "Insert (вставка): у середньому - O(1), в найгіршому - O(1)\n",
    "Delete (видалення): у середньому - O(1), в найгіршому - O(1)\"\"\")"
   ]
  },
  {
   "cell_type": "code",
   "execution_count": 66,
   "id": "18be5164-134f-43c2-8b5a-4f018c641848",
   "metadata": {},
   "outputs": [
    {
     "name": "stdout",
     "output_type": "stream",
     "text": [
      "1\n",
      "[2]\n"
     ]
    }
   ],
   "source": [
    "class Queue:\n",
    "    def __init__(self):\n",
    "        self.items = []\n",
    "\n",
    "    def isEmpty(self):\n",
    "        return self.items == []\n",
    "\n",
    "    def enqueue(self, item):\n",
    "        self.items.insert(0,item)\n",
    "\n",
    "    def dequeue(self):\n",
    "        return self.items.pop()\n",
    "\n",
    "    def size(self):\n",
    "        return len(self.items)\n",
    "q = Queue()\n",
    "q.isEmpty()\n",
    "q.enqueue(2)\n",
    "q.isEmpty()\n",
    "print(q.size())\n",
    "print(q.items)"
   ]
  },
  {
   "cell_type": "code",
   "execution_count": 70,
   "id": "89969fb5-1098-480b-8155-5e0d6c708d87",
   "metadata": {},
   "outputs": [
    {
     "name": "stdout",
     "output_type": "stream",
     "text": [
      "Чи пуста черга? True\n",
      "Чи пуста черга? False\n",
      "Розмір черги: 1\n",
      "Елементи черги: [2]\n",
      "\n",
      "Друкуємо перші 2 елементи черги:\n",
      "[2]\n"
     ]
    }
   ],
   "source": [
    "class Queue:\n",
    "    def __init__(self):\n",
    "        self.items = []\n",
    "\n",
    "    def isEmpty(self):\n",
    "        return self.items == []\n",
    "\n",
    "    def enqueue(self, item):\n",
    "        self.items.insert(0, item)\n",
    "\n",
    "    def dequeue(self):\n",
    "        return self.items.pop()\n",
    "\n",
    "    def size(self):\n",
    "        return len(self.items)\n",
    "    \n",
    "    def print_n(self, n):\n",
    "        if n >= len(self.items):\n",
    "            print(self.items)\n",
    "        else:\n",
    "            print(self.items[:n+1])\n",
    "q = Queue()\n",
    "print(\"Чи пуста черга?\", q.isEmpty())\n",
    "q.enqueue(2)\n",
    "print(\"Чи пуста черга?\", q.isEmpty())\n",
    "print(\"Розмір черги:\", q.size())\n",
    "print(\"Елементи черги:\", q.items)\n",
    "print(\"\\nДрукуємо перші 2 елементи черги:\")\n",
    "q.print_n(1)"
   ]
  },
  {
   "cell_type": "code",
   "execution_count": null,
   "id": "02cb2711-fc56-4b03-8c9a-2f65b1b8e7e2",
   "metadata": {},
   "outputs": [],
   "source": []
  }
 ],
 "metadata": {
  "kernelspec": {
   "display_name": "Python 3 (ipykernel)",
   "language": "python",
   "name": "python3"
  },
  "language_info": {
   "codemirror_mode": {
    "name": "ipython",
    "version": 3
   },
   "file_extension": ".py",
   "mimetype": "text/x-python",
   "name": "python",
   "nbconvert_exporter": "python",
   "pygments_lexer": "ipython3",
   "version": "3.12.3"
  }
 },
 "nbformat": 4,
 "nbformat_minor": 5
}
